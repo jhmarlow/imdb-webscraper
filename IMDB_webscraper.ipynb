{
 "cells": [
  {
   "cell_type": "code",
   "execution_count": 6,
   "metadata": {},
   "outputs": [],
   "source": [
    "import requests\n",
    "from requests import get\n",
    "from bs4 import BeautifulSoup\n",
    "import pandas as pd\n",
    "import numpy as np"
   ]
  },
  {
   "cell_type": "code",
   "execution_count": 7,
   "metadata": {},
   "outputs": [],
   "source": [
    "headers = {\"Accept-Language\": \"en-US, en;q=0.5\"}"
   ]
  },
  {
   "cell_type": "code",
   "execution_count": 8,
   "metadata": {},
   "outputs": [],
   "source": [
    "url = \"https://www.imdb.com/search/title/?groups=top_1000&ref_=adv_prv\"\n",
    "results = requests.get(url, headers=headers) "
   ]
  },
  {
   "cell_type": "code",
   "execution_count": 9,
   "metadata": {
    "tags": [
     "outputPrepend"
    ]
   },
   "outputs": [],
   "source": [
    "soup = BeautifulSoup(results.text, \"html.parser\")"
   ]
  },
  {
   "cell_type": "code",
   "execution_count": 10,
   "metadata": {},
   "outputs": [],
   "source": [
    "movie_div = soup.find_all('h3', class_='lister-item-header')"
   ]
  },
  {
   "cell_type": "code",
   "execution_count": 11,
   "metadata": {},
   "outputs": [
    {
     "output_type": "execute_result",
     "data": {
      "text/plain": "[<h3 class=\"lister-item-header\">\n <span class=\"lister-item-index unbold text-primary\">1.</span>\n <a href=\"/title/tt7286456/\">Joker</a>\n <span class=\"lister-item-year text-muted unbold\">(2019)</span>\n </h3>]"
     },
     "metadata": {},
     "execution_count": 11
    }
   ],
   "source": [
    "movie_div[0:1]"
   ]
  },
  {
   "cell_type": "code",
   "execution_count": 12,
   "metadata": {},
   "outputs": [],
   "source": [
    "movies = {}\n",
    "\n",
    "for i, container in enumerate(movie_div):\n",
    "    movies['Movie_%s' % i] = {'title':container.a.text,\n",
    "    'year': container.find('span', class_='lister-item-year').text\n",
    "    }"
   ]
  },
  {
   "cell_type": "code",
   "execution_count": 13,
   "metadata": {},
   "outputs": [
    {
     "output_type": "execute_result",
     "data": {
      "text/plain": "{'Movie_0': {'title': 'Joker', 'year': '(2019)'},\n 'Movie_1': {'title': 'Once Upon a Time... in Hollywood', 'year': '(2019)'},\n 'Movie_2': {'title': 'The Gentlemen', 'year': '(2019)'},\n 'Movie_3': {'title': 'Parasite', 'year': '(2019)'},\n 'Movie_4': {'title': '1917', 'year': '(2019)'},\n 'Movie_5': {'title': 'Knives Out', 'year': '(2019)'},\n 'Movie_6': {'title': 'Avengers: Endgame', 'year': '(2019)'},\n 'Movie_7': {'title': 'Titanic', 'year': '(1997)'},\n 'Movie_8': {'title': 'The Godfather', 'year': '(1972)'},\n 'Movie_9': {'title': 'Jojo Rabbit', 'year': '(2019)'},\n 'Movie_10': {'title': 'The Shawshank Redemption', 'year': '(1994)'},\n 'Movie_11': {'title': 'Back to the Future', 'year': '(1985)'},\n 'Movie_12': {'title': 'Inception', 'year': '(2010)'},\n 'Movie_13': {'title': \"Harry Potter and the Sorcerer's Stone\",\n  'year': '(2001)'},\n 'Movie_14': {'title': 'The Dark Knight', 'year': '(2008)'},\n 'Movie_15': {'title': 'Interstellar', 'year': '(2014)'},\n 'Movie_16': {'title': 'Little Women', 'year': '(2019)'},\n 'Movie_17': {'title': 'The Lighthouse', 'year': '(I) (2019)'},\n 'Movie_18': {'title': 'The Lord of the Rings: The Fellowship of the Ring',\n  'year': '(2001)'},\n 'Movie_19': {'title': 'Pulp Fiction', 'year': '(1994)'},\n 'Movie_20': {'title': 'Inglourious Basterds', 'year': '(2009)'},\n 'Movie_21': {'title': 'Mad Max: Fury Road', 'year': '(2015)'},\n 'Movie_22': {'title': 'Django Unchained', 'year': '(2012)'},\n 'Movie_23': {'title': 'The Matrix', 'year': '(1999)'},\n 'Movie_24': {'title': 'Ford v Ferrari', 'year': '(2019)'},\n 'Movie_25': {'title': 'The Irishman', 'year': '(2019)'},\n 'Movie_26': {'title': 'Saving Private Ryan', 'year': '(1998)'},\n 'Movie_27': {'title': 'Avengers: Infinity War', 'year': '(2018)'},\n 'Movie_28': {'title': 'Jurassic Park', 'year': '(1993)'},\n 'Movie_29': {'title': 'The Wolf of Wall Street', 'year': '(2013)'},\n 'Movie_30': {'title': 'Dunkirk', 'year': '(2017)'},\n 'Movie_31': {'title': 'The Shining', 'year': '(1980)'},\n 'Movie_32': {'title': 'The Green Mile', 'year': '(1999)'},\n 'Movie_33': {'title': 'The Godfather: Part II', 'year': '(1974)'},\n 'Movie_34': {'title': 'Thor: Ragnarok', 'year': '(2017)'},\n 'Movie_35': {'title': 'The Goonies', 'year': '(1985)'},\n 'Movie_36': {'title': 'Forrest Gump', 'year': '(1994)'},\n 'Movie_37': {'title': 'Fight Club', 'year': '(1999)'},\n 'Movie_38': {'title': 'The Prestige', 'year': '(2006)'},\n 'Movie_39': {'title': 'Guardians of the Galaxy', 'year': '(2014)'},\n 'Movie_40': {'title': 'Call Me by Your Name', 'year': '(2017)'},\n 'Movie_41': {'title': 'Se7en', 'year': '(1995)'},\n 'Movie_42': {'title': 'Deadpool 2', 'year': '(2018)'},\n 'Movie_43': {'title': 'The Princess Bride', 'year': '(1987)'},\n 'Movie_44': {'title': 'The Dark Knight Rises', 'year': '(2012)'},\n 'Movie_45': {'title': 'Mission: Impossible - Fallout', 'year': '(2018)'},\n 'Movie_46': {'title': 'Harry Potter and the Deathly Hallows: Part 2',\n  'year': '(2011)'},\n 'Movie_47': {'title': 'The Silence of the Lambs', 'year': '(1991)'},\n 'Movie_48': {'title': 'Apocalypto', 'year': '(2006)'},\n 'Movie_49': {'title': 'Gladiator', 'year': '(2000)'}}"
     },
     "metadata": {},
     "execution_count": 13
    }
   ],
   "source": [
    "movies"
   ]
  }
 ],
 "metadata": {
  "language_info": {
   "codemirror_mode": {
    "name": "ipython",
    "version": 3
   },
   "file_extension": ".py",
   "mimetype": "text/x-python",
   "name": "python",
   "nbconvert_exporter": "python",
   "pygments_lexer": "ipython3",
   "version": "3.7.6-final"
  },
  "orig_nbformat": 2,
  "kernelspec": {
   "name": "python37664bit1c275fbc5cec4f6f8db42e6315e2c621",
   "display_name": "Python 3.7.6 64-bit"
  }
 },
 "nbformat": 4,
 "nbformat_minor": 2
}