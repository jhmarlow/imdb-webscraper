{
 "cells": [
  {
   "cell_type": "code",
   "execution_count": 43,
   "metadata": {},
   "outputs": [],
   "source": [
    "import requests\n",
    "from requests import get\n",
    "from bs4 import BeautifulSoup\n",
    "import pandas as pd\n",
    "import numpy as np"
   ]
  },
  {
   "cell_type": "code",
   "execution_count": 44,
   "metadata": {},
   "outputs": [],
   "source": [
    "# declare static variab;es\n",
    "URL = \"https://www.imdb.com/search/title/?groups=top_1000&ref_=adv_prv\"\n",
    "HEADERS = {\"Accept-Language\": \"en-US, en;q=0.5\"}"
   ]
  },
  {
   "cell_type": "code",
   "execution_count": 45,
   "metadata": {
    "tags": [
     "outputPrepend"
    ]
   },
   "outputs": [],
   "source": [
    "results = requests.get(URL, headers=HEADERS) \n",
    "soup = BeautifulSoup(results.text, \"html.parser\")"
   ]
  },
  {
   "cell_type": "code",
   "execution_count": 75,
   "metadata": {},
   "outputs": [
    {
     "output_type": "stream",
     "name": "stdout",
     "text": "Container example.....\n\n------------------------\n\n<div class=\"lister-item-content\">\n <h3 class=\"lister-item-header\">\n  <span class=\"lister-item-index unbold text-primary\">\n   1.\n  </span>\n  <a href=\"/title/tt7286456/\">\n   Joker\n  </a>\n  <span class=\"lister-item-year text-muted unbold\">\n   (2019)\n  </span>\n </h3>\n <p class=\"text-muted\">\n  <span class=\"certificate\">\n   R\n  </span>\n  <span class=\"ghost\">\n   |\n  </span>\n  <span class=\"runtime\">\n   122 min\n  </span>\n  <span class=\"ghost\">\n   |\n  </span>\n  <span class=\"genre\">\n   Crime, Drama, Thriller\n  </span>\n </p>\n <div class=\"ratings-bar\">\n  <div class=\"inline-block ratings-imdb-rating\" data-value=\"8.5\" name=\"ir\">\n   <span class=\"global-sprite rating-star imdb-rating\">\n   </span>\n   <strong>\n    8.5\n   </strong>\n  </div>\n  <div class=\"inline-block ratings-user-rating\">\n   <span class=\"userRatingValue\" data-tconst=\"tt7286456\" id=\"urv_tt7286456\">\n    <span class=\"global-sprite rating-star no-rating\">\n    </span>\n    <span class=\"rate\" data-no-rating=\"Rate this\" data-value=\"0\" name=\"ur\">\n     Rate this\n    </span>\n   </span>\n   <div class=\"starBarWidget\" id=\"sb_tt7286456\">\n    <div class=\"rating rating-list\" data-auth=\"\" data-ga-identifier=\"\" data-starbar-class=\"rating-list\" data-user=\"\" id=\"tt7286456|imdb|8.5|8.5|adv_li_tt||advsearch|title\" itemprop=\"aggregateRating\" itemscope=\"\" itemtype=\"http://schema.org/AggregateRating\" title=\"Users rated this 8.5/10 (803,469 votes) - click stars to rate\">\n     <meta content=\"8.5\" itemprop=\"ratingValue\"/>\n     <meta content=\"10\" itemprop=\"bestRating\"/>\n     <meta content=\"803469\" itemprop=\"ratingCount\"/>\n     <span class=\"rating-bg\">\n     </span>\n     <span class=\"rating-imdb\" style=\"width: 119px\">\n     </span>\n     <span class=\"rating-stars\">\n      <a href=\"/register/login?why=vote\" rel=\"nofollow\" title=\"Register or login to rate this title\">\n       <span>\n        1\n       </span>\n      </a>\n      <a href=\"/register/login?why=vote\" rel=\"nofollow\" title=\"Register or login to rate this title\">\n       <span>\n        2\n       </span>\n      </a>\n      <a href=\"/register/login?why=vote\" rel=\"nofollow\" title=\"Register or login to rate this title\">\n       <span>\n        3\n       </span>\n      </a>\n      <a href=\"/register/login?why=vote\" rel=\"nofollow\" title=\"Register or login to rate this title\">\n       <span>\n        4\n       </span>\n      </a>\n      <a href=\"/register/login?why=vote\" rel=\"nofollow\" title=\"Register or login to rate this title\">\n       <span>\n        5\n       </span>\n      </a>\n      <a href=\"/register/login?why=vote\" rel=\"nofollow\" title=\"Register or login to rate this title\">\n       <span>\n        6\n       </span>\n      </a>\n      <a href=\"/register/login?why=vote\" rel=\"nofollow\" title=\"Register or login to rate this title\">\n       <span>\n        7\n       </span>\n      </a>\n      <a href=\"/register/login?why=vote\" rel=\"nofollow\" title=\"Register or login to rate this title\">\n       <span>\n        8\n       </span>\n      </a>\n      <a href=\"/register/login?why=vote\" rel=\"nofollow\" title=\"Register or login to rate this title\">\n       <span>\n        9\n       </span>\n      </a>\n      <a href=\"/register/login?why=vote\" rel=\"nofollow\" title=\"Register or login to rate this title\">\n       <span>\n        10\n       </span>\n      </a>\n     </span>\n     <span class=\"rating-rating\">\n      <span class=\"value\">\n       8.5\n      </span>\n      <span class=\"grey\">\n       /\n      </span>\n      <span class=\"grey\">\n       10\n      </span>\n     </span>\n     <span class=\"rating-cancel\">\n      <a href=\"/title/tt7286456/vote?v=X;k=\" rel=\"nofollow\" title=\"Delete\">\n       <span>\n        X\n       </span>\n      </a>\n     </span>\n    </div>\n   </div>\n  </div>\n  <div class=\"inline-block ratings-metascore\">\n   <span class=\"metascore mixed\">\n    59\n   </span>\n   Metascore\n  </div>\n </div>\n <p class=\"text-muted\">\n  In Gotham City, mentally troubled comedian Arthur Fleck is disregarded and mistreated by society. He then embarks on a downward spiral of revolution and bloody crime. This path brings him face-to-face with his alter-ego: the Joker.\n </p>\n <p class=\"\">\n  Director:\n  <a href=\"/name/nm0680846/\">\n   Todd Phillips\n  </a>\n  <span class=\"ghost\">\n   |\n  </span>\n  Stars:\n  <a href=\"/name/nm0001618/\">\n   Joaquin Phoenix\n  </a>\n  ,\n  <a href=\"/name/nm0000134/\">\n   Robert De Niro\n  </a>\n  ,\n  <a href=\"/name/nm5939164/\">\n   Zazie Beetz\n  </a>\n  ,\n  <a href=\"/name/nm0175814/\">\n   Frances Conroy\n  </a>\n </p>\n <p class=\"sort-num_votes-visible\">\n  <span class=\"text-muted\">\n   Votes:\n  </span>\n  <span data-value=\"803469\" name=\"nv\">\n   803,469\n  </span>\n  <span class=\"ghost\">\n   |\n  </span>\n  <span class=\"text-muted\">\n   Gross:\n  </span>\n  <span data-value=\"335,451,311\" name=\"nv\">\n   $335.45M\n  </span>\n </p>\n</div>\n\n"
    }
   ],
   "source": [
    "movie_div = soup.find_all('div', class_='lister-item-content')\n",
    "print(\"Container example.....\\n\")\n",
    "print(\"------------------------\\n\")\n",
    "print(soup.find('div', class_='lister-item-content').prettify())"
   ]
  },
  {
   "cell_type": "code",
   "execution_count": 54,
   "metadata": {},
   "outputs": [],
   "source": [
    "def get_info(html=None, class_=None):\n",
    "    return container.find(html, class_).text"
   ]
  },
  {
   "cell_type": "code",
   "execution_count": 86,
   "metadata": {},
   "outputs": [
    {
     "output_type": "execute_result",
     "data": {
      "text/plain": "  rank                             title    year certificate  runtime  \\\n0   1.                             Joker  (2019)           R  122 min   \n1   2.  Once Upon a Time... in Hollywood  (2019)           R  161 min   \n2   3.                     The Gentlemen  (2019)           R  113 min   \n3   4.                          Parasite  (2019)           R  132 min   \n4   5.                              1917  (2019)           R  119 min   \n\n                                   genre imdb_score  \n0   \\nCrime, Drama, Thriller                    8.5  \n1            \\nComedy, Drama                    7.7  \n2    \\nAction, Comedy, Crime                    7.9  \n3  \\nComedy, Drama, Thriller                    8.6  \n4               \\nDrama, War                    8.3  ",
      "text/html": "<div>\n<style scoped>\n    .dataframe tbody tr th:only-of-type {\n        vertical-align: middle;\n    }\n\n    .dataframe tbody tr th {\n        vertical-align: top;\n    }\n\n    .dataframe thead th {\n        text-align: right;\n    }\n</style>\n<table border=\"1\" class=\"dataframe\">\n  <thead>\n    <tr style=\"text-align: right;\">\n      <th></th>\n      <th>rank</th>\n      <th>title</th>\n      <th>year</th>\n      <th>certificate</th>\n      <th>runtime</th>\n      <th>genre</th>\n      <th>imdb_score</th>\n    </tr>\n  </thead>\n  <tbody>\n    <tr>\n      <th>0</th>\n      <td>1.</td>\n      <td>Joker</td>\n      <td>(2019)</td>\n      <td>R</td>\n      <td>122 min</td>\n      <td>\\nCrime, Drama, Thriller</td>\n      <td>8.5</td>\n    </tr>\n    <tr>\n      <th>1</th>\n      <td>2.</td>\n      <td>Once Upon a Time... in Hollywood</td>\n      <td>(2019)</td>\n      <td>R</td>\n      <td>161 min</td>\n      <td>\\nComedy, Drama</td>\n      <td>7.7</td>\n    </tr>\n    <tr>\n      <th>2</th>\n      <td>3.</td>\n      <td>The Gentlemen</td>\n      <td>(2019)</td>\n      <td>R</td>\n      <td>113 min</td>\n      <td>\\nAction, Comedy, Crime</td>\n      <td>7.9</td>\n    </tr>\n    <tr>\n      <th>3</th>\n      <td>4.</td>\n      <td>Parasite</td>\n      <td>(2019)</td>\n      <td>R</td>\n      <td>132 min</td>\n      <td>\\nComedy, Drama, Thriller</td>\n      <td>8.6</td>\n    </tr>\n    <tr>\n      <th>4</th>\n      <td>5.</td>\n      <td>1917</td>\n      <td>(2019)</td>\n      <td>R</td>\n      <td>119 min</td>\n      <td>\\nDrama, War</td>\n      <td>8.3</td>\n    </tr>\n  </tbody>\n</table>\n</div>"
     },
     "metadata": {},
     "execution_count": 86
    }
   ],
   "source": [
    "movies_df = pd.DataFrame(columns=['rank','title','year','certificate',\n",
    "'runtime','genre', 'imdb_score'])\n",
    "\n",
    "for i, container in enumerate(movie_div):\n",
    "    movies_df.loc[i] = {'rank': get_info(html='span', class_='lister-item-index'),\n",
    "                        'title': get_info(html='a'), #container.a.text,\n",
    "                        'year': get_info(html='span', class_='lister-item-year'),\n",
    "                        'certificate': get_info(html='span', class_='certificate'),\n",
    "                        'runtime': get_info(html='span', class_='runtime'),\n",
    "                        'genre': get_info(html='span', class_='genre'),\n",
    "                        'imdb_score': get_info(html='strong')}\n",
    "\n",
    "# metascore\n",
    "# description\n",
    "# director\n",
    "# stars\n",
    "# votes\n",
    "# gross\n",
    "\n",
    "movies_df.head()"
   ]
  },
  {
   "cell_type": "code",
   "execution_count": null,
   "metadata": {},
   "outputs": [],
   "source": [
    "container.find(html, class_)\n",
    "\n",
    "container.findall('span', name).text"
   ]
  }
 ],
 "metadata": {
  "language_info": {
   "codemirror_mode": {
    "name": "ipython",
    "version": 3
   },
   "file_extension": ".py",
   "mimetype": "text/x-python",
   "name": "python",
   "nbconvert_exporter": "python",
   "pygments_lexer": "ipython3",
   "version": "3.7.6-final"
  },
  "orig_nbformat": 2,
  "kernelspec": {
   "name": "python37664bit1c275fbc5cec4f6f8db42e6315e2c621",
   "display_name": "Python 3.7.6 64-bit"
  }
 },
 "nbformat": 4,
 "nbformat_minor": 2
}